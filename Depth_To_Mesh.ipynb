{
 "cells": [
  {
   "cell_type": "code",
   "execution_count": 6,
   "metadata": {},
   "outputs": [],
   "source": [
    "import importlib\n",
    "import depth2pc\n",
    "importlib.reload(depth2pc)\n",
    "import math"
   ]
  },
  {
   "cell_type": "code",
   "execution_count": 7,
   "metadata": {},
   "outputs": [
    {
     "name": "stdout",
     "output_type": "stream",
     "text": [
      "An error occurred while writing to the output file:\n",
      "[Errno 122] Disk quota exceeded\n"
     ]
    }
   ],
   "source": [
    "depth_path = '/home/s5614279/MasterClass/Depth2Mesh/image/tmph9lokllx.png'\n",
    "invert_depth = False\n",
    "output_path = '/home/s5614279/MasterClass/Depth2Mesh/output/example_1_pc.ply'\n",
    "fov = 60.0 * math.pi / 180.0  # 视场角,以弧度为单位\n",
    "\n",
    "depth2pc.create_point_cloud(depth_path, invert_depth, output_path, fov)"
   ]
  }
 ],
 "metadata": {
  "kernelspec": {
   "display_name": "Python 3",
   "language": "python",
   "name": "python3"
  },
  "language_info": {
   "codemirror_mode": {
    "name": "ipython",
    "version": 3
   },
   "file_extension": ".py",
   "mimetype": "text/x-python",
   "name": "python",
   "nbconvert_exporter": "python",
   "pygments_lexer": "ipython3",
   "version": "3.10.6"
  },
  "orig_nbformat": 4
 },
 "nbformat": 4,
 "nbformat_minor": 2
}
