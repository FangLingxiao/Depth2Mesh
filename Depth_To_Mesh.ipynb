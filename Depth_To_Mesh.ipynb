{
 "cells": [
  {
   "cell_type": "code",
   "execution_count": 30,
   "metadata": {},
   "outputs": [],
   "source": [
    "import importlib\n",
    "import depth2pc\n",
    "importlib.reload(depth2pc)\n",
    "import math"
   ]
  },
  {
   "cell_type": "code",
   "execution_count": 60,
   "metadata": {},
   "outputs": [],
   "source": [
    "depth_path = '/home/s5614279/MasterClass/Depth2Mesh/output/face1_16bit_depth.png'\n",
    "depth_scale = 1.6\n",
    "color_path = '/home/s5614279/MasterClass/Depth2Mesh/input/face1.jpg'\n",
    "#output_path = '/home/s5614279/MasterClass/Depth2Mesh/output/example_1_pc.ply'\n",
    "fov = 90 * math.pi / 180.0  # 视场角,以弧度为单位\n",
    "\n",
    "output = depth2pc.create_point_cloud(depth_path, depth_scale, color_path, fov)\n"
   ]
  },
  {
   "cell_type": "code",
   "execution_count": 15,
   "metadata": {},
   "outputs": [],
   "source": [
    "import open3d as o3d"
   ]
  },
  {
   "cell_type": "code",
   "execution_count": 61,
   "metadata": {},
   "outputs": [],
   "source": [
    "\n",
    "pcd = o3d.geometry.PointCloud()\n",
    "pcd.points = o3d.utility.Vector3dVector(output[:, :3])\n",
    "pcd.colors = o3d.utility.Vector3dVector(output[:, 3:] / 255.0)\n",
    "o3d.visualization.draw_geometries([pcd])"
   ]
  },
  {
   "cell_type": "code",
   "execution_count": 73,
   "metadata": {},
   "outputs": [
    {
     "data": {
      "text/plain": [
       "<module 'test1' from '/home/s5614279/MasterClass/Depth2Mesh/test1.py'>"
      ]
     },
     "execution_count": 73,
     "metadata": {},
     "output_type": "execute_result"
    }
   ],
   "source": [
    "import test1\n",
    "import cv2\n",
    "importlib.reload(test1)"
   ]
  },
  {
   "cell_type": "code",
   "execution_count": 75,
   "metadata": {},
   "outputs": [
    {
     "name": "stdout",
     "output_type": "stream",
     "text": [
      "(960, 1280, 3)\n",
      "(960, 1280, 3)\n",
      "Unexpected exception formatting exception. Falling back to standard exception\n"
     ]
    },
    {
     "name": "stderr",
     "output_type": "stream",
     "text": [
      "Traceback (most recent call last):\n",
      "  File \"/home/s5614279/.pyenv/versions/anaconda3-2022.05/envs/depth2mesh/lib/python3.10/site-packages/IPython/core/interactiveshell.py\", line 3553, in run_code\n",
      "    exec(code_obj, self.user_global_ns, self.user_ns)\n",
      "  File \"/tmp/ipykernel_1059159/696006129.py\", line 7, in <module>\n",
      "    pointcloud_color = test1.depth_to_pointcloud_colour(depth_img, color_img, depth_scale=0.4)\n",
      "  File \"/home/s5614279/MasterClass/Depth2Mesh/test1.py\", line 98, in depth_to_pointcloud_colour\n",
      "    depth = (depth[:, :, 2] + depth[:, :, 1], depth[:, :, 0]) / (255.0 * 3) # Average all channels\n",
      "TypeError: unsupported operand type(s) for /: 'tuple' and 'float'\n",
      "\n",
      "During handling of the above exception, another exception occurred:\n",
      "\n",
      "Traceback (most recent call last):\n",
      "  File \"/home/s5614279/.pyenv/versions/anaconda3-2022.05/envs/depth2mesh/lib/python3.10/site-packages/IPython/core/interactiveshell.py\", line 2144, in showtraceback\n",
      "    stb = self.InteractiveTB.structured_traceback(\n",
      "  File \"/home/s5614279/.pyenv/versions/anaconda3-2022.05/envs/depth2mesh/lib/python3.10/site-packages/IPython/core/ultratb.py\", line 1435, in structured_traceback\n",
      "    return FormattedTB.structured_traceback(\n",
      "  File \"/home/s5614279/.pyenv/versions/anaconda3-2022.05/envs/depth2mesh/lib/python3.10/site-packages/IPython/core/ultratb.py\", line 1326, in structured_traceback\n",
      "    return VerboseTB.structured_traceback(\n",
      "  File \"/home/s5614279/.pyenv/versions/anaconda3-2022.05/envs/depth2mesh/lib/python3.10/site-packages/IPython/core/ultratb.py\", line 1173, in structured_traceback\n",
      "    formatted_exception = self.format_exception_as_a_whole(etype, evalue, etb, number_of_lines_of_context,\n",
      "  File \"/home/s5614279/.pyenv/versions/anaconda3-2022.05/envs/depth2mesh/lib/python3.10/site-packages/IPython/core/ultratb.py\", line 1088, in format_exception_as_a_whole\n",
      "    frames.append(self.format_record(record))\n",
      "  File \"/home/s5614279/.pyenv/versions/anaconda3-2022.05/envs/depth2mesh/lib/python3.10/site-packages/IPython/core/ultratb.py\", line 970, in format_record\n",
      "    frame_info.lines, Colors, self.has_colors, lvals\n",
      "  File \"/home/s5614279/.pyenv/versions/anaconda3-2022.05/envs/depth2mesh/lib/python3.10/site-packages/IPython/core/ultratb.py\", line 792, in lines\n",
      "    return self._sd.lines\n",
      "  File \"/home/s5614279/.pyenv/versions/anaconda3-2022.05/envs/depth2mesh/lib/python3.10/site-packages/stack_data/utils.py\", line 145, in cached_property_wrapper\n",
      "    value = obj.__dict__[self.func.__name__] = self.func(obj)\n",
      "  File \"/home/s5614279/.pyenv/versions/anaconda3-2022.05/envs/depth2mesh/lib/python3.10/site-packages/stack_data/core.py\", line 698, in lines\n",
      "    pieces = self.included_pieces\n",
      "  File \"/home/s5614279/.pyenv/versions/anaconda3-2022.05/envs/depth2mesh/lib/python3.10/site-packages/stack_data/utils.py\", line 145, in cached_property_wrapper\n",
      "    value = obj.__dict__[self.func.__name__] = self.func(obj)\n",
      "  File \"/home/s5614279/.pyenv/versions/anaconda3-2022.05/envs/depth2mesh/lib/python3.10/site-packages/stack_data/core.py\", line 649, in included_pieces\n",
      "    pos = scope_pieces.index(self.executing_piece)\n",
      "  File \"/home/s5614279/.pyenv/versions/anaconda3-2022.05/envs/depth2mesh/lib/python3.10/site-packages/stack_data/utils.py\", line 145, in cached_property_wrapper\n",
      "    value = obj.__dict__[self.func.__name__] = self.func(obj)\n",
      "  File \"/home/s5614279/.pyenv/versions/anaconda3-2022.05/envs/depth2mesh/lib/python3.10/site-packages/stack_data/core.py\", line 628, in executing_piece\n",
      "    return only(\n",
      "  File \"/home/s5614279/.pyenv/versions/anaconda3-2022.05/envs/depth2mesh/lib/python3.10/site-packages/executing/executing.py\", line 164, in only\n",
      "    raise NotOneValueFound('Expected one value, found 0')\n",
      "executing.executing.NotOneValueFound: Expected one value, found 0\n"
     ]
    }
   ],
   "source": [
    "depth_img = cv2.imread('/home/s5614279/MasterClass/Depth2Mesh/output/face1_depth_colored.png', cv2.IMREAD_UNCHANGED)\n",
    "color_img = cv2.imread('/home/s5614279/MasterClass/Depth2Mesh/input/face1.jpg')\n",
    "#depth_img = cv2.resize(depth_img, (color_img.shape[1], color_img.shape[0]), interpolation=cv2.INTER_NEAREST)\n",
    "\n",
    "print(depth_img.shape)\n",
    "print(color_img.shape)\n",
    "pointcloud_color = test1.depth_to_pointcloud_colour(depth_img, color_img, depth_scale=0.4)"
   ]
  },
  {
   "cell_type": "code",
   "execution_count": 76,
   "metadata": {},
   "outputs": [],
   "source": [
    "pcd = o3d.geometry.PointCloud()\n",
    "pcd.points = o3d.utility.Vector3dVector(pointcloud_color[:, :3])\n",
    "pcd.colors = o3d.utility.Vector3dVector(pointcloud_color[:, 3:] / 255.0)\n",
    "o3d.visualization.draw_geometries([pcd])"
   ]
  }
 ],
 "metadata": {
  "kernelspec": {
   "display_name": "Python 3",
   "language": "python",
   "name": "python3"
  },
  "language_info": {
   "codemirror_mode": {
    "name": "ipython",
    "version": 3
   },
   "file_extension": ".py",
   "mimetype": "text/x-python",
   "name": "python",
   "nbconvert_exporter": "python",
   "pygments_lexer": "ipython3",
   "version": "3.10.14"
  },
  "orig_nbformat": 4
 },
 "nbformat": 4,
 "nbformat_minor": 2
}
